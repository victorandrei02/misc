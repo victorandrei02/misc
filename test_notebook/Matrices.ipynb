{
 "cells": [
  {
   "cell_type": "code",
   "execution_count": 1,
   "id": "054b1117",
   "metadata": {},
   "outputs": [],
   "source": [
    "import numpy as np\n",
    "from matplotlib import pyplot as plt\n",
    "import seaborn as sns\n",
    "sns.set_theme()"
   ]
  },
  {
   "cell_type": "markdown",
   "id": "14805974",
   "metadata": {},
   "source": [
    "## 2 Matrices\n",
    "\n",
    "This is defining the two matrices.\n",
    "\n",
    "**Warning** It will explode!\n",
    "\n",
    "https://www.python.org/downloads/release/python-399/"
   ]
  },
  {
   "cell_type": "code",
   "execution_count": 2,
   "id": "d6d0a9e4",
   "metadata": {},
   "outputs": [
    {
     "name": "stdout",
     "output_type": "stream",
     "text": [
      "[[1. 1. 1.]\n",
      " [1. 1. 1.]\n",
      " [1. 1. 1.]]\n",
      "[[0. 0. 0.]\n",
      " [0. 0. 0.]\n",
      " [0. 0. 0.]]\n"
     ]
    }
   ],
   "source": [
    "A = np.ones((3, 3))\n",
    "print(A)\n",
    "\n",
    "B = np.zeros((3, 3))\n",
    "print(B)"
   ]
  },
  {
   "cell_type": "code",
   "execution_count": 3,
   "id": "bc033e75",
   "metadata": {},
   "outputs": [],
   "source": [
    "c = np.dot(A, B)\n",
    "D = np.concatenate((A, B), axis=1)"
   ]
  },
  {
   "cell_type": "code",
   "execution_count": 24,
   "id": "0896ebdc",
   "metadata": {},
   "outputs": [
    {
     "name": "stdout",
     "output_type": "stream",
     "text": [
      "Resultant vector is [ 1 -1  2]\n",
      "Vector magnitude is 2.449\n"
     ]
    }
   ],
   "source": [
    "vx = [1, 1, 0]\n",
    "vy = [-1, 1, 1]\n",
    "vans = np.cross(vx, vy)\n",
    "vmag = np.linalg.norm(vans)\n",
    "print(f\"Resultant vector is {vans}\\nVector magnitude is {vmag:.3f}\")"
   ]
  },
  {
   "cell_type": "code",
   "execution_count": 52,
   "id": "3f278c41",
   "metadata": {
    "scrolled": true
   },
   "outputs": [
    {
     "name": "stdout",
     "output_type": "stream",
     "text": [
      "-0.000015\n"
     ]
    },
    {
     "data": {
      "text/plain": [
       "1000"
      ]
     },
     "execution_count": 52,
     "metadata": {},
     "output_type": "execute_result"
    },
    {
     "data": {
      "image/png": "[encoded data removed]",
      "text/plain": [
       "<Figure size 432x288 with 1 Axes>"
      ]
     },
     "metadata": {},
     "output_type": "display_data"
    }
   ],
   "source": [
    "n = 1000\n",
    "x = np.array(np.linspace(0, 2 * np.pi, num=n))\n",
    "y = np.sin(x)\n",
    "randy = 0.1 * (np.random.rand(n) - 0.5)\n",
    "ynoise = y + randy\n",
    "yavg = np.average(ynoise - y)\n",
    "\n",
    "plt.plot(x, ynoise)\n",
    "print(f\"{yavg:.6f}\")\n",
    "np.shape(x)[0]"
   ]
  },
  {
   "cell_type": "code",
   "execution_count": 39,
   "id": "2a0c8ca2",
   "metadata": {},
   "outputs": [],
   "source": [
    "p = [1, 3, 7, 5, 2, 8, 10]"
   ]
  },
  {
   "cell_type": "code",
   "execution_count": 8,
   "id": "26c0fcd4",
   "metadata": {},
   "outputs": [],
   "source": [
    "psin = np.sin(p)"
   ]
  },
  {
   "cell_type": "code",
   "execution_count": 83,
   "id": "da802fdc",
   "metadata": {},
   "outputs": [
    {
     "data": {
      "text/plain": [
       "array([[1],\n",
       "       [1],\n",
       "       [0]])"
      ]
     },
     "execution_count": 83,
     "metadata": {},
     "output_type": "execute_result"
    }
   ],
   "source": [
    "vxt = np.array([vx]).T\n",
    "vxt"
   ]
  },
  {
   "cell_type": "code",
   "execution_count": null,
   "id": "654917a7",
   "metadata": {},
   "outputs": [],
   "source": []
  }
 ],
 "metadata": {
  "kernelspec": {
   "display_name": "Python 3 (ipykernel)",
   "language": "python",
   "name": "python3"
  },
  "language_info": {
   "codemirror_mode": {
    "name": "ipython",
    "version": 3
   },
   "file_extension": ".py",
   "mimetype": "text/x-python",
   "name": "python",
   "nbconvert_exporter": "python",
   "pygments_lexer": "ipython3",
   "version": "3.9.9"
  }
 },
 "nbformat": 4,
 "nbformat_minor": 5
}
